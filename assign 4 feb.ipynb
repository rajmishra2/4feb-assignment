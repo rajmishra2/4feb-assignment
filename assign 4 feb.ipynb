{
 "cells": [
  {
   "cell_type": "markdown",
   "id": "049376a3-bf23-4a22-a5e8-8d59438e641d",
   "metadata": {},
   "source": [
    "#Q3\n",
    "Write a python program to convert the given list of integers into a tuple of strings. Use map and lambda functions\n"
   ]
  },
  {
   "cell_type": "code",
   "execution_count": 2,
   "id": "2c785b90-7586-4d87-b085-e26652e16f9d",
   "metadata": {},
   "outputs": [],
   "source": [
    "l=[1, 2, 3, 4, 5, 6, 7, 8, 9, 10]"
   ]
  },
  {
   "cell_type": "code",
   "execution_count": 4,
   "id": "70644aa4-6e64-4282-ab92-8e13ea345e14",
   "metadata": {},
   "outputs": [
    {
     "data": {
      "text/plain": [
       "['1', '2', '3', '4', '5', '6', '7', '8', '9', '10']"
      ]
     },
     "execution_count": 4,
     "metadata": {},
     "output_type": "execute_result"
    }
   ],
   "source": [
    "list(map(lambda l : str(l),l))"
   ]
  },
  {
   "cell_type": "code",
   "execution_count": 5,
   "id": "4bc88b3a-386d-4cae-a09f-2afbd78158ef",
   "metadata": {},
   "outputs": [],
   "source": [
    "l=[1, 2, 3, 4, 5, 6, 7, 8, 9, 10]"
   ]
  },
  {
   "cell_type": "markdown",
   "id": "43d4ff20-d7a8-4962-80a1-b886021dd029",
   "metadata": {},
   "source": [
    " Q1 Create a python program to sort the given list of tuples based on integer value using a\n",
    "lambda function. \n",
    "\n",
    "[('Sachin Tendulkar', 34357), ('Ricky Ponting', 27483), ('Jack Kallis', 25534), ('Virat Kohli', 24936)]\n",
    "\n",
    "#tupple=stores multiple item in a single variable\n"
   ]
  },
  {
   "cell_type": "code",
   "execution_count": 42,
   "id": "922347f5-a77a-464c-a8d3-1a5b23bacbd2",
   "metadata": {},
   "outputs": [
    {
     "name": "stdout",
     "output_type": "stream",
     "text": [
      "\n",
      "Sorting the List of Tuples:\n",
      "[('Virat Kohli', 24936), ('Jack Kallis', 25534), ('Ricky Ponting', 27483), ('Sachin Tendulkar', 34357)]\n"
     ]
    }
   ],
   "source": [
    "s=[('Sachin Tendulkar', 34357), ('Ricky Ponting', 27483), ('Jack Kallis', 25534), ('Virat Kohli', 24936)]\n",
    "\n",
    "#pl explain this\n",
    "\n",
    "\n",
    "s.sort(key = lambda x: x[1])\n",
    "print(\"\\nSorting the List of Tuples:\")\n",
    "print(s)"
   ]
  },
  {
   "cell_type": "code",
   "execution_count": null,
   "id": "e369fae8-8638-4810-ab58-b62969a5cf3f",
   "metadata": {},
   "outputs": [],
   "source": [
    "Q2 Write a Python Program to find the squares of all the numbers in the given list of integers using\n",
    "lambda and map functions."
   ]
  },
  {
   "cell_type": "code",
   "execution_count": 14,
   "id": "9984df93-7f6f-4b7d-9a22-42775900ac1b",
   "metadata": {},
   "outputs": [
    {
     "data": {
      "text/plain": [
       "[1, 4, 9, 16, 25, 36, 49, 64, 81, 100]"
      ]
     },
     "execution_count": 14,
     "metadata": {},
     "output_type": "execute_result"
    }
   ],
   "source": [
    "x=[1, 2, 3, 4, 5, 6, 7, 8, 9, 10]\n",
    "list(map(lambda x: x**2 , x))"
   ]
  },
  {
   "cell_type": "markdown",
   "id": "a538db13-31a3-4049-9c09-7234ed7c9905",
   "metadata": {},
   "source": [
    "Q5 Write a python program to filter the numbers in a given list that are divisible by 2 and 3 using the\n",
    "filter function.\n",
    "\n",
    "[2, 3, 6, 9, 27, 60, 90, 120, 55, 46]"
   ]
  },
  {
   "cell_type": "code",
   "execution_count": 16,
   "id": "c5a99115-805f-438d-9bf8-b69647e1634a",
   "metadata": {},
   "outputs": [
    {
     "data": {
      "text/plain": [
       "[6, 60, 90, 120]"
      ]
     },
     "execution_count": 16,
     "metadata": {},
     "output_type": "execute_result"
    }
   ],
   "source": [
    "r=[2, 3, 6, 9, 27, 60, 90, 120, 55, 46]\n",
    "list(filter(lambda r:r%2==0 and r%3==0,r))\n",
    "            \n",
    "            "
   ]
  },
  {
   "cell_type": "markdown",
   "id": "eb9fb407-6495-453d-99ba-5f27dfa6d86e",
   "metadata": {},
   "source": [
    "Q4 Write a python program using reduce function to compute the product of a list containing numbers\n",
    "from 1 to 25.\n"
   ]
  },
  {
   "cell_type": "code",
   "execution_count": 28,
   "id": "f5782ac0-c5f1-41b1-8860-9fad9a496194",
   "metadata": {},
   "outputs": [
    {
     "data": {
      "text/plain": [
       "15511210043330985984000000"
      ]
     },
     "execution_count": 28,
     "metadata": {},
     "output_type": "execute_result"
    }
   ],
   "source": [
    "p=list(range(1,26,))\n",
    "from functools import reduce\n",
    "reduce(lambda a,b:a*b,p)"
   ]
  },
  {
   "cell_type": "markdown",
   "id": "8507d37a-1401-429c-bf29-c942a91b6466",
   "metadata": {},
   "source": [
    "Q6  Write a python program to find palindromes in the given list of strings using lambda and filter\n",
    "function.\n",
    "\n",
    "\n",
    "['python', 'php', 'aba', 'radar', 'level']"
   ]
  },
  {
   "cell_type": "code",
   "execution_count": 39,
   "id": "56de71be-a216-4156-b19f-8bfdb4ca477b",
   "metadata": {},
   "outputs": [
    {
     "name": "stdout",
     "output_type": "stream",
     "text": [
      "['php', 'aba', 'radar', 'level']\n"
     ]
    }
   ],
   "source": [
    "#pl explain me this.\n",
    "\n",
    "list_of_strings=['python', 'php', 'aba', 'radar', 'level']\n",
    "result = list(filter(lambda x: (x == ''.join(reversed(x))), list_of_strings))\n",
    "print (result)"
   ]
  },
  {
   "cell_type": "code",
   "execution_count": null,
   "id": "2e9bf561-ae79-42fa-828a-3672544dd71e",
   "metadata": {},
   "outputs": [],
   "source": []
  }
 ],
 "metadata": {
  "kernelspec": {
   "display_name": "Python 3 (ipykernel)",
   "language": "python",
   "name": "python3"
  },
  "language_info": {
   "codemirror_mode": {
    "name": "ipython",
    "version": 3
   },
   "file_extension": ".py",
   "mimetype": "text/x-python",
   "name": "python",
   "nbconvert_exporter": "python",
   "pygments_lexer": "ipython3",
   "version": "3.10.8"
  }
 },
 "nbformat": 4,
 "nbformat_minor": 5
}
